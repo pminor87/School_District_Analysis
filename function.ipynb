{
 "cells": [
  {
   "cell_type": "code",
   "execution_count": 4,
   "id": "3279e646",
   "metadata": {},
   "outputs": [],
   "source": [
    "# Define the function \"say_hello\" so it prints \"Hello!\" when called.\n",
    "def say_hello():\n",
    "    print(\"Hello!\")"
   ]
  },
  {
   "cell_type": "code",
   "execution_count": 6,
   "id": "9513ad76",
   "metadata": {},
   "outputs": [
    {
     "name": "stdout",
     "output_type": "stream",
     "text": [
      "Hello!\n"
     ]
    }
   ],
   "source": [
    "# Call the function.\n",
    "say_hello()"
   ]
  },
  {
   "cell_type": "code",
   "execution_count": 7,
   "id": "eeb4b1fe",
   "metadata": {},
   "outputs": [],
   "source": [
    "# Define the function \"say_something\" so it prints whatever is passed as the variable when called.\n",
    "def say_something(something):\n",
    "    print(something)"
   ]
  },
  {
   "cell_type": "code",
   "execution_count": 8,
   "id": "522319ac",
   "metadata": {},
   "outputs": [
    {
     "name": "stdout",
     "output_type": "stream",
     "text": [
      "Hello World\n"
     ]
    }
   ],
   "source": [
    "# Call the function.\n",
    "say_something(\"Hello World\")"
   ]
  },
  {
   "cell_type": "code",
   "execution_count": 9,
   "id": "f3f6e0f5",
   "metadata": {},
   "outputs": [
    {
     "name": "stdout",
     "output_type": "stream",
     "text": [
      "Hi, my name is Jane. I'm learning Python!\n"
     ]
    }
   ],
   "source": [
    "Jane_says = \"Hi, my name is Jane. I'm learning Python!\"\n",
    "say_something(Jane_says)"
   ]
  },
  {
   "cell_type": "code",
   "execution_count": 10,
   "id": "c25360d4",
   "metadata": {},
   "outputs": [],
   "source": [
    "# A list of my grades.\n",
    "\n",
    "my_grades = ['B', 'C', 'B' , 'D']"
   ]
  },
  {
   "cell_type": "code",
   "execution_count": 11,
   "id": "1d449729",
   "metadata": {},
   "outputs": [
    {
     "data": {
      "text/plain": [
       "0    B\n",
       "1    C\n",
       "2    B\n",
       "3    D\n",
       "dtype: object"
      ]
     },
     "execution_count": 11,
     "metadata": {},
     "output_type": "execute_result"
    }
   ],
   "source": [
    "# Import pandas.\n",
    "\n",
    "import pandas as pd\n",
    "\n",
    "# Convert the my_grades to a Series\n",
    "\n",
    "my_grades = pd.Series(my_grades)\n",
    "\n",
    "my_grades"
   ]
  },
  {
   "cell_type": "code",
   "execution_count": 12,
   "id": "d32ff9df",
   "metadata": {},
   "outputs": [
    {
     "data": {
      "text/plain": [
       "0    A\n",
       "1    B\n",
       "2    A\n",
       "3    C\n",
       "dtype: object"
      ]
     },
     "execution_count": 12,
     "metadata": {},
     "output_type": "execute_result"
    }
   ],
   "source": [
    "# Change the grades by one letter grade.\n",
    "\n",
    "my_grades.map({'B': 'A', 'C': 'B', 'D': 'C'})"
   ]
  },
  {
   "cell_type": "code",
   "execution_count": 15,
   "id": "8897bee8",
   "metadata": {},
   "outputs": [
    {
     "name": "stdout",
     "output_type": "stream",
     "text": [
      "92\n",
      "85\n",
      "87\n",
      "98\n"
     ]
    }
   ],
   "source": [
    "# Using the format() function.\n",
    "\n",
    "my_grades = [92.34, 84.56, 86.78, 98.32]\n",
    "\n",
    "\n",
    "for grade in my_grades:\n",
    "    \n",
    "    print(\"{:.0f}\".format(grade))"
   ]
  },
  {
   "cell_type": "code",
   "execution_count": 16,
   "id": "eaf25c43",
   "metadata": {},
   "outputs": [
    {
     "data": {
      "text/plain": [
       "0    92.34\n",
       "1    84.56\n",
       "2    86.78\n",
       "3    78.32\n",
       "dtype: float64"
      ]
     },
     "execution_count": 16,
     "metadata": {},
     "output_type": "execute_result"
    }
   ],
   "source": [
    "# Convert the numerical grades to a Series.\n",
    "\n",
    "my_grades = pd.Series([92.34, 84.56, 86.78, 78.32])\n",
    "\n",
    "my_grades"
   ]
  },
  {
   "cell_type": "code",
   "execution_count": 17,
   "id": "97704872",
   "metadata": {},
   "outputs": [
    {
     "data": {
      "text/plain": [
       "0    92\n",
       "1    85\n",
       "2    87\n",
       "3    78\n",
       "dtype: object"
      ]
     },
     "execution_count": 17,
     "metadata": {},
     "output_type": "execute_result"
    }
   ],
   "source": [
    "# Format the grades to the nearest whole number percent.\n",
    "\n",
    "my_grades.map(\"{:.0f}\".format)\n"
   ]
  },
  {
   "cell_type": "code",
   "execution_count": null,
   "id": "c7b5116d",
   "metadata": {},
   "outputs": [],
   "source": []
  }
 ],
 "metadata": {
  "kernelspec": {
   "display_name": "PythonData",
   "language": "python",
   "name": "pythondata"
  },
  "language_info": {
   "codemirror_mode": {
    "name": "ipython",
    "version": 3
   },
   "file_extension": ".py",
   "mimetype": "text/x-python",
   "name": "python",
   "nbconvert_exporter": "python",
   "pygments_lexer": "ipython3",
   "version": "3.7.11"
  }
 },
 "nbformat": 4,
 "nbformat_minor": 5
}
